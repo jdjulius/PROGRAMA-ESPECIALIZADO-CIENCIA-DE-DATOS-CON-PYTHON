{
 "cells": [
  {
   "cell_type": "markdown",
   "source": [
    "# Ejercicio Nº 4\n",
    "Con el siguiente fichero datos_seguros.csv contiene información de riesgo de clientes de un banco. Escribir un programa con los siguientes requisitos:\n",
    "1. Generar un DataFrame con los datos del fichero.\n",
    "2. Mostrar por pantalla las dimensiones del DataFrame, el número de datos que contiene, los nombres de sus columnas y filas, los tipos de datos de las columnas, mostrar las 10 primeras filas y las 10 últimas filas, verificar si tiene datos perdidos/nulos.\n",
    "3. Extraer las 1000 primeras filas y almacenarlas en un contenedor.\n"
   ],
   "metadata": {
    "collapsed": false
   }
  },
  {
   "cell_type": "code",
   "execution_count": null,
   "outputs": [],
   "source": [],
   "metadata": {
    "collapsed": false
   }
  },
  {
   "cell_type": "code",
   "execution_count": null,
   "outputs": [],
   "source": [],
   "metadata": {
    "collapsed": false
   }
  },
  {
   "cell_type": "code",
   "execution_count": null,
   "outputs": [],
   "source": [],
   "metadata": {
    "collapsed": false
   }
  }
 ],
 "metadata": {
  "kernelspec": {
   "display_name": "Python 3",
   "language": "python",
   "name": "python3"
  },
  "language_info": {
   "codemirror_mode": {
    "name": "ipython",
    "version": 2
   },
   "file_extension": ".py",
   "mimetype": "text/x-python",
   "name": "python",
   "nbconvert_exporter": "python",
   "pygments_lexer": "ipython2",
   "version": "2.7.6"
  }
 },
 "nbformat": 4,
 "nbformat_minor": 0
}
