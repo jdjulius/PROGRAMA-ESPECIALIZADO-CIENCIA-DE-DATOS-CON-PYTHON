{
 "cells": [
  {
   "cell_type": "markdown",
   "source": [
    "# Ejercicio N°1:\n",
    "Escribir un programa que pregunte al usuario o genere las ventas de los últimos 5 días, y muestre por pantalla una serie (Dataframe) con los datos de las ventas por producto (opcional): Nro de unidades y precio unitario, indexada por los días, antes y después de aplicarles un descuento del 5%."
   ],
   "metadata": {
    "collapsed": false
   }
  },
  {
   "cell_type": "code",
   "execution_count": null,
   "outputs": [],
   "source": [],
   "metadata": {
    "collapsed": false
   }
  }
 ],
 "metadata": {
  "kernelspec": {
   "display_name": "Python 3",
   "language": "python",
   "name": "python3"
  },
  "language_info": {
   "codemirror_mode": {
    "name": "ipython",
    "version": 2
   },
   "file_extension": ".py",
   "mimetype": "text/x-python",
   "name": "python",
   "nbconvert_exporter": "python",
   "pygments_lexer": "ipython2",
   "version": "2.7.6"
  }
 },
 "nbformat": 4,
 "nbformat_minor": 0
}
