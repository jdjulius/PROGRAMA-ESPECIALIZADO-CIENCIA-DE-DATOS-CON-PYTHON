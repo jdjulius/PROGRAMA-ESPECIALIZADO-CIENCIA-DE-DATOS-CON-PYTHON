{
 "cells": [
  {
   "cell_type": "markdown",
   "source": [
    " # Ejercicio Nº 3\n",
    "Escribir programa que genere y muestre por pantalla un DataFrame con los datos de la siguiente tabla:\n",
    "\n",
    "Mes | Ventas |  Gastos\n",
    "----|---------|--------\n",
    "Enero |  30500  | 22000\n",
    "Febrero  | 35600|  23450\n",
    "Marzo |  28300 |  18100\n",
    "Abril |  33900 |  35700\n",
    "Mayo |  42500 |  32450\n",
    "\n",
    "A continuación, generar nuevas columna:\n",
    "1. Columna 1 = Gasto/Ventas*100.\n",
    "2. Columna 2 = Si Ventas>= 30000, imprimir “Meta Superada”, caso contrario imprimir “Meta no Superada”.\n",
    "3. Columna 3 = Si Gasto>Ventas, calcular el sobre gasto.\n",
    "4. Obtener el total de las ventas de los últimos 3 meses\n",
    "5. Obtener el total de gastos de febrero a abril\n",
    "\n"
   ],
   "metadata": {
    "collapsed": false
   }
  },
  {
   "cell_type": "code",
   "execution_count": null,
   "outputs": [],
   "source": [],
   "metadata": {
    "collapsed": false,
    "ExecuteTime": {
     "end_time": "2023-07-09T04:02:19.008160200Z",
     "start_time": "2023-07-09T04:02:18.993311700Z"
    }
   }
  },
  {
   "cell_type": "code",
   "execution_count": null,
   "outputs": [],
   "source": [],
   "metadata": {
    "collapsed": false,
    "ExecuteTime": {
     "end_time": "2023-07-09T04:02:19.023361400Z",
     "start_time": "2023-07-09T04:02:19.010165900Z"
    }
   }
  },
  {
   "cell_type": "code",
   "execution_count": null,
   "outputs": [],
   "source": [],
   "metadata": {
    "collapsed": false
   }
  }
 ],
 "metadata": {
  "kernelspec": {
   "display_name": "Python 3",
   "language": "python",
   "name": "python3"
  },
  "language_info": {
   "codemirror_mode": {
    "name": "ipython",
    "version": 2
   },
   "file_extension": ".py",
   "mimetype": "text/x-python",
   "name": "python",
   "nbconvert_exporter": "python",
   "pygments_lexer": "ipython2",
   "version": "2.7.6"
  }
 },
 "nbformat": 4,
 "nbformat_minor": 0
}
